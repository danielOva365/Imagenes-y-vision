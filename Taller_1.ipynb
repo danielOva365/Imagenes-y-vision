{
 "cells": [
  {
   "cell_type": "markdown",
   "metadata": {},
   "source": [
    "# Taller 1 Procesamiento de imagenes y visión\n",
    "Autor : **Daniel Eduardo Ovalle Rosas**\n",
    "\n",
    "*Descripción paso a paso*\n",
    "1. Se cargarón las librerias de OpenCV y numpy para procesamiento de imagenes en python y manipular arreglos o matrices.\n",
    "2. Cambio en el espacio de Color de la imagen de las pelotas lisas, con el objetivo de realizar segmentacion de color en el \n",
    "espacio HSV y en escala de grises para quitarlas del fondo."
   ]
  },
  {
   "cell_type": "code",
   "execution_count": 10,
   "metadata": {},
   "outputs": [],
   "source": [
    "import cv2 as cv\n",
    "import numpy as np\n",
    "import matplotlib.pyplot as plt"
   ]
  },
  {
   "cell_type": "code",
   "execution_count": 3,
   "metadata": {},
   "outputs": [],
   "source": [
    "img_original = cv.imread(\"PELOTASLISAS-COLORES.jpg\")\n",
    "#Cambio en los espacios de color (trabajare con escala de grises y HSV)\n",
    "imgRGB =  cv.cvtColor(img_original,cv.COLOR_BGR2RGB)\n",
    "img_gray = cv.cvtColor(img_original,cv.COLOR_BGR2GRAY)\n",
    "hsv_image = cv.cvtColor(img_original,cv.COLOR_BGR2HSV)"
   ]
  },
  {
   "cell_type": "markdown",
   "metadata": {},
   "source": [
    "En esta sección quite las pelotas de la imagen con el objetivo de quedarme con solo la mascara binaria.\n",
    "Para esto realicé un proceso de umbralización, donde tome la imagen de las pelotas en escala de grises y le defini un umbral para dejar solo el fondo blanco. el resto toma un valor de 0.\n",
    "\n",
    "Adicionalmente la convertí en una imagen de 3 canales. Esto para posteriormente poder realizar operaciones con las otras imagenes."
   ]
  },
  {
   "cell_type": "code",
   "execution_count": 11,
   "metadata": {},
   "outputs": [
    {
     "name": "stdout",
     "output_type": "stream",
     "text": [
      "Dimensiones mascara (624, 464, 3)\n"
     ]
    }
   ],
   "source": [
    "#Imagen sin pelotas\n",
    "ret, img_sbolas= cv.threshold(img_gray,243,255,cv.THRESH_BINARY)\n",
    "mascara_img = np.ones_like(img_original)*255  #Creo un fondo blanco de 3 canales con el objetivo de aplicar la mascara al fondo\n",
    "Sin_pelotas = cv.bitwise_and(mascara_img, mascara_img, mask=img_sbolas)   #Imagen sin pelotas de 3 canales. Para poder operarla\n",
    "cv.imshow(\"Imagen sin pelotas\",Sin_pelotas)\n",
    "dimension_Mascara =   Sin_pelotas.shape\n",
    "print(\"Dimensiones mascara\",dimension_Mascara)\n",
    "\n",
    "cv.waitKey(0)\n",
    "cv.destroyAllWindows()"
   ]
  },
  {
   "cell_type": "code",
   "execution_count": 6,
   "metadata": {},
   "outputs": [
    {
     "name": "stdout",
     "output_type": "stream",
     "text": [
      "Dimensiones naranjita (624, 464, 3)\n"
     ]
    }
   ],
   "source": [
    "#Segmentación del color Naranja\n",
    "orange_low = np.array([5, 60, 25]) \n",
    "orange_up = np.array([25, 255, 255])\n",
    "\n",
    "orange_mask = cv.inRange(hsv_image,orange_low,orange_up)\n",
    "\n",
    "Naranjita =  cv.bitwise_and(img_original, img_original, mask= orange_mask)\n",
    "dimension_Naranjita = Naranjita.shape\n",
    "\n",
    "cv.imshow(\"BOLA NARANJA\", Naranjita)\n",
    "print(\"Dimensiones naranjita\",dimension_Naranjita)\n",
    "\n",
    "Resultado = cv.add(Naranjita,Sin_pelotas)\n",
    "cv.imshow(\"Una Bola\",Resultado)\n",
    "cv.waitKey(0)\n",
    "cv.destroyAllWindows()"
   ]
  },
  {
   "cell_type": "code",
   "execution_count": 7,
   "metadata": {},
   "outputs": [],
   "source": [
    "#Segmentación del Color Rojo tiene 2 umbrales\n",
    "red_low =  np.array([0,60,25])\n",
    "red_up = np.array([5,255,255])\n",
    "red_low1 =  np.array([160,60,25])\n",
    "red_up1 = np.array([180,255,255])\n",
    "\n",
    "red_mask1 = cv.inRange(hsv_image,red_low,red_up)\n",
    "red_mask2 = cv.inRange(hsv_image,red_low1,red_up1)\n",
    "\n",
    "Rojo1 =  cv.bitwise_and(img_original, img_original, mask= red_mask1)\n",
    "Rojo2 =  cv.bitwise_and(img_original, img_original, mask= red_mask2)\n",
    "Rojo = cv.add(Rojo1,Rojo2)\n",
    "\n",
    "cv.imshow(\"Rojo1\",Rojo1)\n",
    "cv.imshow(\"Rojo2\",Rojo2)\n",
    "cv.imshow(\"ROJO BUENARDO\",Rojo)\n",
    "\n",
    "Resultado = cv.add(Rojo,Resultado)\n",
    "cv.imshow(\"Dos Bolas\",Resultado)\n",
    "\n",
    "cv.waitKey(0)\n",
    "cv.destroyAllWindows()"
   ]
  },
  {
   "cell_type": "code",
   "execution_count": 8,
   "metadata": {},
   "outputs": [],
   "source": [
    "#Segmentación del Color Azul\n",
    "blue_low =  np.array([92,60,25])\n",
    "blue_up = np.array([135,255,255])\n",
    "\n",
    "blue_mask = cv.inRange(hsv_image,blue_low,blue_up)\n",
    "Azul =  cv.bitwise_and(img_original, img_original, mask= blue_mask)\n",
    "cv.imshow(\"Azul\",Azul)\n",
    "\n",
    "Resultado = cv.add(Azul,Resultado)\n",
    "cv.imshow(\"Tres Bolas\",Resultado)\n",
    "\n",
    "cv.waitKey(0)\n",
    "cv.destroyAllWindows()"
   ]
  },
  {
   "cell_type": "code",
   "execution_count": 9,
   "metadata": {},
   "outputs": [],
   "source": [
    "\n",
    "#Segmentación del Color Amarillo\n",
    "yellow_low =  np.array([25,60,25])\n",
    "yellow_up = np.array([35,255,255])\n",
    "\n",
    "yellow_mask = cv.inRange(hsv_image,yellow_low,yellow_up)\n",
    "Amarillo =  cv.bitwise_and(img_original, img_original, mask= yellow_mask)\n",
    "cv.imshow(\"Negro\",Amarillo)\n",
    "\n",
    "Resultado = cv.add(Amarillo,Resultado)\n",
    "cv.imshow(\"Cuatro Bolas\",Resultado)\n",
    "\n",
    "cv.waitKey(0)\n",
    "cv.destroyAllWindows()"
   ]
  }
 ],
 "metadata": {
  "kernelspec": {
   "display_name": "Python 3",
   "language": "python",
   "name": "python3"
  },
  "language_info": {
   "codemirror_mode": {
    "name": "ipython",
    "version": 3
   },
   "file_extension": ".py",
   "mimetype": "text/x-python",
   "name": "python",
   "nbconvert_exporter": "python",
   "pygments_lexer": "ipython3",
   "version": "3.8.8"
  },
  "orig_nbformat": 4
 },
 "nbformat": 4,
 "nbformat_minor": 2
}
