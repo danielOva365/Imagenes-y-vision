{
 "cells": [
  {
   "cell_type": "markdown",
   "metadata": {},
   "source": [
    "# Traductor de lenguaje de señas empleando tecnicas de procesamiento de imagenes y video\n",
    "\n",
    "Autor : **Daniel Eduardo Ovalle Rosas**\n",
    "\n",
    "\n",
    "Las fases del proyecto son las siguientes : \n",
    "\n",
    "1. \n",
    " - **Metodos que podria emplear.**:\n",
    "    1. Binarización adaptativa\n",
    "    2. Filtro gaussiano\n",
    "    3. Obtener puntos de la mano.\n",
    "    4. CNN \n",
    "    \n",
    " - **Encontrar un Dataset de imagenes  o videos a emplear**\n",
    " \n",
    " - **Realizar un primer pre procesamiento de las imagenes**\n",
    "     \n",
    "     Aplicación de una mascara para interesarnos unicamente en la imagen.\n",
    " \n",
    "\n",
    "\n"
   ]
  },
  {
   "cell_type": "code",
   "execution_count": 10,
   "metadata": {},
   "outputs": [],
   "source": [
    "import cv2 \n",
    "import numpy as np\n",
    "import matplotlib.pyplot as plt"
   ]
  },
  {
   "cell_type": "markdown",
   "metadata": {},
   "source": [
    "**Prueba inicial con solo una imagen**"
   ]
  },
  {
   "cell_type": "code",
   "execution_count": 11,
   "metadata": {},
   "outputs": [],
   "source": [
    "#Prueba sobre una imagen\n",
    "img_dir = 'D:/Personal/Imagenes-y-vision/Proyecto_ASL_to_text/DATASET_MANOS/J/J0025_test.jpg'\n",
    "\n"
   ]
  },
  {
   "cell_type": "code",
   "execution_count": 12,
   "metadata": {},
   "outputs": [],
   "source": [
    "#Preprocesamiento de la mano\n",
    "def binaAdapt(In_image):   # Esta función realiza una binarización adaptativa\n",
    "    image = cv2.imread(In_image)\n",
    "    (h, w, d) = image.shape\n",
    "\n",
    "    width = 400\n",
    "    height = 400\n",
    "    dim = (width, height)\n",
    "\n",
    "    #1. Redimensionar la imagen \n",
    "    resized = cv2.resize(image, dim, interpolation = cv2.INTER_AREA)\n",
    "\n",
    "    #print(image[100,100,1])\n",
    "    im1_HSV = cv2.cvtColor(resized, cv2.COLOR_BGR2HSV)\n",
    "\n",
    "    # convertir la imagen a escala de grises y difuminarla ligeramente\n",
    "    gray = cv2.cvtColor(im1_HSV, cv2.COLOR_BGR2GRAY)\n",
    "    (h1, w1) = gray.shape\n",
    "  #  print(gray[100,100])\n",
    "    blurred = cv2.GaussianBlur(gray, (7,7), 0)\n",
    "\n",
    "    (T, threshInv) = cv2.threshold(gray, 0, 255,cv2.THRESH_BINARY | cv2.THRESH_OTSU)\n",
    "    #cv2.imshow(\"Threshold\", threshInv)\n",
    "    print(\"[INFO] otsu's thresholding value: {}\".format(T))\n",
    "\n",
    "    # visualize only the masked regions in the image\n",
    "    masked = cv2.bitwise_and(im1_HSV, im1_HSV, mask=threshInv)\n",
    "\n",
    "    salida = cv2.cvtColor(masked, cv2.COLOR_HSV2BGR)\n",
    "\n",
    "\n",
    "    return salida\n",
    "\n"
   ]
  },
  {
   "cell_type": "code",
   "execution_count": 13,
   "metadata": {},
   "outputs": [
    {
     "name": "stdout",
     "output_type": "stream",
     "text": [
      "[INFO] otsu's thresholding value: 141.0\n"
     ]
    }
   ],
   "source": [
    "Result=binaAdapt(img_dir)\n",
    "cv2.imshow(\"Resultado\",Result)\n",
    "cv2.waitKey(0)\n",
    "cv2.destroyAllWindows()"
   ]
  }
 ],
 "metadata": {
  "kernelspec": {
   "display_name": "Python 3",
   "language": "python",
   "name": "python3"
  },
  "language_info": {
   "codemirror_mode": {
    "name": "ipython",
    "version": 3
   },
   "file_extension": ".py",
   "mimetype": "text/x-python",
   "name": "python",
   "nbconvert_exporter": "python",
   "pygments_lexer": "ipython3",
   "version": "3.11.5"
  },
  "orig_nbformat": 4
 },
 "nbformat": 4,
 "nbformat_minor": 2
}
